{
 "cells": [
  {
   "cell_type": "markdown",
   "metadata": {},
   "source": [
    "#Tarea 1"
   ]
  },
  {
   "cell_type": "code",
   "execution_count": 1,
   "metadata": {},
   "outputs": [
    {
     "name": "stdout",
     "output_type": "stream",
     "text": [
      "Hola mundo\n"
     ]
    }
   ],
   "source": [
    "#4. Imprima **\"Hola mundo\"** utilizando la función print()\n",
    "print(\"Hola mundo\")"
   ]
  },
  {
   "cell_type": "code",
   "execution_count": 3,
   "metadata": {},
   "outputs": [],
   "source": [
    "#5. Cree tres variables **nombre**, **edad**, **pais**. Asigne el valor de estas variables a su nombre, edad, y país.\n",
    "nombre = \"Glenda\"\n",
    "edad = 22\n",
    "pais = \"El Salvador\""
   ]
  },
  {
   "cell_type": "code",
   "execution_count": 4,
   "metadata": {},
   "outputs": [
    {
     "name": "stdout",
     "output_type": "stream",
     "text": [
      "nombre: Glenda\n",
      "edad: 22\n",
      "pais: El Salvador\n"
     ]
    }
   ],
   "source": [
    "#6. Concatene e imprima las variables **nombre**, **edad**, **pais** utilizando una sola función print().\n",
    "\n",
    "print(\"nombre:\", nombre)\n",
    "print(\"edad:\", edad)\n",
    "print(\"pais:\", pais)\n"
   ]
  },
  {
   "cell_type": "code",
   "execution_count": 5,
   "metadata": {},
   "outputs": [
    {
     "name": "stdout",
     "output_type": "stream",
     "text": [
      "<class 'str'>\n",
      "<class 'int'>\n",
      "<class 'str'>\n"
     ]
    }
   ],
   "source": [
    "#7. ¿Qué tipo de datos son las variables **nombre**, **edad**, **país**? Imprima el tipo de dato de estas variables con la función print().\n",
    "\n",
    "print(type(nombre))\n",
    "print(type(edad))\n",
    "print(type(pais))"
   ]
  },
  {
   "cell_type": "code",
   "execution_count": 10,
   "metadata": {},
   "outputs": [
    {
     "name": "stdout",
     "output_type": "stream",
     "text": [
      "En astronomía, la clasificación estelar\n",
      "es la clasificación de las estrellas\n",
      "en función de sus características espectrales\n"
     ]
    }
   ],
   "source": [
    "#8. Imprima la frase \"En astronomía, la clasificación estelar es la clasificación de las estrellas en función de sus características espectrales.\" en tres líneas separadas utilizando una sola función print() y el caracter de escape *\\n*. Su output debería verse así:\n",
    "\n",
    "print(\"En astronomía, la clasificación estelar\\nes la clasificación de las estrellas\\nen función de sus características espectrales\")"
   ]
  },
  {
   "cell_type": "code",
   "execution_count": 34,
   "metadata": {},
   "outputs": [
    {
     "name": "stdout",
     "output_type": "stream",
     "text": [
      "Hipergigantes---Subgigantes---Secuencia principal\\*\n"
     ]
    }
   ],
   "source": [
    "#9. Imprima las strings \"Hipergigantes\", \"Subgigantes\", \"Secuencia principal\" utilizando una sola función print(), cada palabra deberá estar separada por una string \"---\" utilizando el argumento sep=\"---\". La línea debe de terminar con un string \"\\*\", utilizando el argumento end=\"\"\n",
    "\n",
    "name1 = \"Hipergigantes\"\n",
    "name2 = \"Subgigantes\"\n",
    "name3 = \"Secuencia principal\"\n",
    "print(name1+\"---\"+name2+\"---\"+name3+\"\\*\")"
   ]
  },
  {
   "cell_type": "code",
   "execution_count": 4,
   "metadata": {},
   "outputs": [
    {
     "name": "stdout",
     "output_type": "stream",
     "text": [
      "Masa del Sol = 1.98892e+30 kg\n",
      "Masa de Jùpiter = 2.08438816e+33kg\n"
     ]
    }
   ],
   "source": [
    "#10. Una masa solar es equivalente a 1,98892 × 10^30 kg. El Sol (1 masa solar) tiene aproximadamente 1048 veces la masa de Júpiter. Cree dos variables **m_solar** y **m_jupiter** correspondientes a la masa del Sol y el *cálculo* de la masa de Júpiter. Imprima el resultado utilizando la función print() con interpolación de variables i.e.[print(f\"Un string {su_variable}\"]. \n",
    "n=1048\n",
    "m_solar = 1.98892e30\n",
    "m_jupiter = n * m_solar\n",
    "\n",
    "print(f\"Masa del Sol = {m_solar} kg\")\n",
    "print(f\"Masa de Jùpiter = {m_jupiter}kg\")"
   ]
  },
  {
   "cell_type": "code",
   "execution_count": 76,
   "metadata": {},
   "outputs": [
    {
     "name": "stdout",
     "output_type": "stream",
     "text": [
      "True\n",
      "True\n",
      "False\n",
      "False\n",
      "False\n"
     ]
    }
   ],
   "source": [
    "#11. Una Unidad Astronómica AU es definida como \"una unidad de longitud igual, por definición, a 149 597 870 700 m que equivale aproximadamente a la distancia media entre la Tierra y el Sol.\" Utilizando Python: operadores <>, condicionales *if*, y print(). Evalue las condiciones *True False* e imprima *True* si su distancia al Sol es mayor que 1 AU o imprima *False* si la distancia del planeta al Sol es menor a 1 AU.\n",
    "\n",
    "\n",
    "#   1 UA=149 597 870 700 m\n",
    "\n",
    "x = True\n",
    "y = False\n",
    "\n",
    "#Mercurio = 0.389 AU\n",
    "1 or 0.389\n",
    "if 1 > 0.389: \n",
    "    print(x)\n",
    "    \n",
    "#Venus = 0.723 AU\n",
    "1 or 0.723\n",
    "if 1 > 0.723: \n",
    "    print(x)\n",
    "    \n",
    "#Marte = 1.524 AU \n",
    "1.524 or 1\n",
    "if 1 < 1.524: \n",
    "    print(y)\n",
    "    \n",
    "#Júpiter = 5.203 AU \n",
    "5.203 or 1\n",
    "if 1 < 5.203: \n",
    "    print(y)\n",
    "\n",
    "#Saturno = 9.537 AU \n",
    "9.537 or 1\n",
    "if 1 < 9.537:\n",
    "    print(y)\n"
   ]
  },
  {
   "cell_type": "code",
   "execution_count": 74,
   "metadata": {},
   "outputs": [],
   "source": []
  }
 ],
 "metadata": {
  "kernelspec": {
   "display_name": "Python 3",
   "language": "python",
   "name": "python3"
  },
  "language_info": {
   "codemirror_mode": {
    "name": "ipython",
    "version": 3
   },
   "file_extension": ".py",
   "mimetype": "text/x-python",
   "name": "python",
   "nbconvert_exporter": "python",
   "pygments_lexer": "ipython3",
   "version": "3.8.5"
  }
 },
 "nbformat": 4,
 "nbformat_minor": 4
}
